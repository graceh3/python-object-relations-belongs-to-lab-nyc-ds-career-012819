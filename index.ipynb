{
 "cells": [
  {
   "cell_type": "markdown",
   "metadata": {},
   "source": [
    "# Python Object Relationships - Belongs To Lab"
   ]
  },
  {
   "cell_type": "markdown",
   "metadata": {},
   "source": [
    "## Introduction\n",
    "\n",
    "We have worked with many classes and domains that all seem to be related in some way. That is the point of a domain model after all, right? So, we know that our classes and domain models should mirror real world structures for our programs to operate the way we want them to. Another concept to accomplish this is Object Relationships. Don't worry, these relationships will be a lot less complex than our real world relationships -- hopefully. Basically, object relationships attempt to show how one object relates with another in a given environment or domain. So, let's take for example a `Person` class and a `Dog` class. A person could have one or many dogs and since dogs are notoriously loyal, a dog has one owner. In an object relationship this would mean that a dog *belongs to* a person. Below, we are going to practice translating this type of relationship into code."
   ]
  },
  {
   "cell_type": "markdown",
   "metadata": {},
   "source": [
    "## Objectives\n",
    "* Define a car class where instances have an `owner` attribute\n",
    "* Translate this ownership attribute into a **belongs to** relationship\n",
    "* Practice querying a belongs to relationship"
   ]
  },
  {
   "cell_type": "markdown",
   "metadata": {},
   "source": [
    "## Defining Our Class\n",
    "Alright, we are going to use a Car class to demonstrate a \"belongs to\" relationship. So, to get started, let's define a Car class with an `__init__` method that takes in parameters for make, model, year, and owner. The make and model are will be strings representing the name of the car manufacturer and the name of the car model, the year will be a number representing the year the car was produced, and the owner will be a string with the name of the car's owner. Again, these instance variables should follow convention and use leading underscores. Let's make intance methods to both get and set (read and write) these instance variables. Use the appropriate decorators and call these methods `make`, `model`, `year`, and `owner`. We should also have a class variable `_all` which points to a list of all car instance objects and a class method called `all` that allows us to get (read) this class variable. "
   ]
  },
  {
   "cell_type": "code",
<<<<<<< HEAD
   "execution_count": 4,
=======
   "execution_count": 87,
>>>>>>> a02cb03c9908d6859fd97304f77a93ac892b0979
   "metadata": {},
   "outputs": [
    {
     "name": "stdout",
     "output_type": "stream",
     "text": [
      "[<__main__.Car object at 0x7fa77aea1400>, <__main__.Car object at 0x7fa77aea1400>]\n"
     ]
    }
   ],
   "source": [
    "# from car import Car\n",
    "class Car:\n",
    "    \n",
    "    _all=[]\n",
    " \n",
    "    @classmethod\n",
    "    def add_car(cls, car_instance):\n",
    "        cls._all.append(car_instance)\n",
    "        return cls._all\n",
    "    \n",
    "    def __init__(self, make, model, year, owner):\n",
    "        self._make = make\n",
    "        self._model = model\n",
    "        self._year = year\n",
    "        self._owner = owner\n",
    "        self.add_car(self)\n",
    "        \n",
    "    @property\n",
    "    def make(self):\n",
    "        return self._make\n",
    "    \n",
    "    @property\n",
    "    def model(self):\n",
    "        return self._model\n",
    "    \n",
    "    @property\n",
    "    def year(self):\n",
    "        return self._year\n",
    "    \n",
    "    @property\n",
    "    def owner(self):\n",
    "        return self._owner\n",
    "    \n",
    "    @make.setter\n",
    "    def make(self, new_make):\n",
    "        self._make = new_make\n",
    "        \n",
    "    @model.setter\n",
    "    def model(self, new_model):\n",
    "        self._model = new_model\n",
    "    \n",
    "    @year.setter\n",
    "    def year(self, new_year):\n",
    "        self._year = new_year\n",
    "        \n",
    "    @owner.setter\n",
    "    def owner(self, new_owner):\n",
    "        self._owner = new_owner\n",
    "    \n",
    "    @classmethod\n",
    "    def all(cls):\n",
    "        return cls._all\n",
    "    \n",
    "    @classmethod\n",
    "    def has_oldest_car(cls):\n",
    "        years = []\n",
    "        for car in _all:\n",
    "            years.append(car.year)\n",
    "            sorted(years)\n",
    "            years[0]\n",
    "            return car.years[0].owner\n",
    "        \n",
    "\n",
    "chrysler = Car(\"Chrysler\", \"Sebring Convertible\", 2004, \"Michael Scott\")\n",
    "print(Car.add_car(chrysler))"
   ]
  },
  {
   "cell_type": "markdown",
   "metadata": {},
   "source": [
    "## Defining Belongs To Relationship\n",
    "Great, so, we now have these car instances that we can see have an owner. But who is the owner of the Sebring Convertible? Let's investigate:"
   ]
  },
  {
   "cell_type": "code",
   "execution_count": 88,
   "metadata": {},
   "outputs": [
    {
     "data": {
      "text/plain": [
       "str"
      ]
     },
     "execution_count": 88,
     "metadata": {},
     "output_type": "execute_result"
    }
   ],
   "source": [
    "type(chrysler.owner) # str"
   ]
  },
  {
   "cell_type": "markdown",
   "metadata": {},
   "source": [
    "Hmm... So, we have a string that is the name of the owner. That is okay, but what if we want to know more about this owner? Maybe we can switch this string with a dictionary so we can add some more attributes? Let's try that out."
   ]
  },
  {
   "cell_type": "code",
   "execution_count": 89,
   "metadata": {
    "scrolled": true
   },
   "outputs": [
    {
     "data": {
      "text/plain": [
       "'Paper Salesperson'"
      ]
     },
     "execution_count": 89,
     "metadata": {},
     "output_type": "execute_result"
    }
   ],
   "source": [
    "datsun = Car(\"Datsun\", \"280Z\", 1978, {'name': \"Dwight Schrute\", 'occupation': \"Paper Salesperson\", 'favotite_tv_show': \"Battlestar Galactica\"})\n",
    "datsun.owner['occupation'] # 'Paper Salesperson'"
   ]
  },
  {
   "cell_type": "markdown",
   "metadata": {},
   "source": [
    "Alright, that's definitely better. We have way more information about the owner and it's beginning to give us more functionality as well. In fact, this dictionary kind of resembles an instance object. Let's define a Person class and have it initialize instances with a name and occupation (`_name`, `_occupation`). Make sure to include instance methods to get (read) these attributes with the appropriate decorator. "
   ]
  },
  {
   "cell_type": "code",
<<<<<<< HEAD
   "execution_count": 2,
=======
   "execution_count": 90,
>>>>>>> a02cb03c9908d6859fd97304f77a93ac892b0979
   "metadata": {},
   "outputs": [
    {
     "ename": "IndentationError",
     "evalue": "expected an indented block (car.py, line 58)",
     "output_type": "error",
     "traceback": [
      "Traceback \u001b[0;36m(most recent call last)\u001b[0m:\n",
      "  File \u001b[1;32m\"/Users/gracejeong/anaconda3/lib/python3.7/site-packages/IPython/core/interactiveshell.py\"\u001b[0m, line \u001b[1;32m3267\u001b[0m, in \u001b[1;35mrun_code\u001b[0m\n    exec(code_obj, self.user_global_ns, self.user_ns)\n",
      "  File \u001b[1;32m\"<ipython-input-2-17d34aad6039>\"\u001b[0m, line \u001b[1;32m1\u001b[0m, in \u001b[1;35m<module>\u001b[0m\n    from person import Person\n",
      "\u001b[0;36m  File \u001b[0;32m\"/Users/gracejeong/Documents/Flatiron/Mod01/week2_DataViz_OOP_APIs_WebScraping/python-object-relations-belongs-to-lab-nyc-ds-career-012819/person.py\"\u001b[0;36m, line \u001b[0;32m2\u001b[0;36m, in \u001b[0;35m<module>\u001b[0;36m\u001b[0m\n\u001b[0;31m    from car import Car\u001b[0m\n",
      "\u001b[0;36m  File \u001b[0;32m\"/Users/gracejeong/Documents/Flatiron/Mod01/week2_DataViz_OOP_APIs_WebScraping/python-object-relations-belongs-to-lab-nyc-ds-career-012819/car.py\"\u001b[0;36m, line \u001b[0;32m58\u001b[0m\n\u001b[0;31m    result.extend(car.owner.name.split()[0].lower())\u001b[0m\n\u001b[0m         ^\u001b[0m\n\u001b[0;31mIndentationError\u001b[0m\u001b[0;31m:\u001b[0m expected an indented block\n"
     ]
    }
   ],
   "source": [
    "# from person import Person\n",
    "\n",
    "class Person:\n",
    "    \n",
    "    def __init__(self, name, occupation):\n",
    "        self._name = name\n",
    "        self._occupation = occupation\n",
    "        \n",
    "    @property\n",
    "    def name(self):\n",
    "        return self._name\n",
    "    \n",
    "    @property\n",
    "    def occupation(self):\n",
    "        return self._occupation\n",
    "\n",
    "pam = Person(\"Pam Beasley\", \"Secretary\")"
   ]
  },
  {
   "cell_type": "code",
   "execution_count": 91,
   "metadata": {},
   "outputs": [
    {
     "name": "stdout",
     "output_type": "stream",
     "text": [
      "Pam Beasley\n",
      "Secretary\n"
     ]
    }
   ],
   "source": [
    "print(pam.name)\n",
    "print(pam.occupation)"
   ]
  },
  {
   "cell_type": "markdown",
   "metadata": {},
   "source": [
    "Awesome, we now have this class that represents an actual person. We can define instance methods and all kinds of things on the Person class to make the person instance object more life-like and complex. For now, let's just relate it to our Car class.  We can do so by passing the relevant Person instance, `pam` in this case, into our Car class upon instantiation of a new Car instance."
   ]
  },
  {
   "cell_type": "code",
   "execution_count": 92,
   "metadata": {},
   "outputs": [],
   "source": [
    "toyota = Car(\"Toyota\", \"Yaris\", 2007, pam)"
   ]
  },
  {
   "cell_type": "code",
   "execution_count": 93,
   "metadata": {},
   "outputs": [
    {
     "data": {
      "text/plain": [
       "__main__.Person"
      ]
     },
     "execution_count": 93,
     "metadata": {},
     "output_type": "execute_result"
    }
   ],
   "source": [
    "type(toyota.owner)"
   ]
  },
  {
   "cell_type": "code",
   "execution_count": 94,
   "metadata": {},
   "outputs": [
    {
     "data": {
      "text/plain": [
       "'Pam Beasley'"
      ]
     },
     "execution_count": 94,
     "metadata": {},
     "output_type": "execute_result"
    }
   ],
   "source": [
    "toyota.owner.name # 'Pam Beasley'"
   ]
  },
  {
   "cell_type": "code",
   "execution_count": 95,
   "metadata": {},
   "outputs": [
    {
     "data": {
      "text/plain": [
       "'Secretary'"
      ]
     },
     "execution_count": 95,
     "metadata": {},
     "output_type": "execute_result"
    }
   ],
   "source": [
    "toyota.owner.occupation # 'Secretary'"
   ]
  },
  {
   "cell_type": "markdown",
   "metadata": {},
   "source": [
    "Wow, that looks so much more straightforward! Also, the car's owner is basically a real person now (okay, maybe not *basically* but definitely closer than we were with just a string.)\n",
    "This relationship is a **belongs to relationship**. The car *belongs to* an owner. \n",
    "\n",
    "Notice that the car knows who its owner is but does the owner have a car attribute?"
   ]
  },
  {
   "cell_type": "code",
   "execution_count": 96,
   "metadata": {
    "scrolled": true
   },
   "outputs": [
    {
     "ename": "AttributeError",
     "evalue": "'Person' object has no attribute 'car'",
     "output_type": "error",
     "traceback": [
      "\u001b[0;31m\u001b[0m",
      "\u001b[0;31mAttributeError\u001b[0mTraceback (most recent call last)",
      "\u001b[0;32m<ipython-input-96-2c7ce49114ff>\u001b[0m in \u001b[0;36m<module>\u001b[0;34m()\u001b[0m\n\u001b[0;32m----> 1\u001b[0;31m \u001b[0mpam\u001b[0m\u001b[0;34m.\u001b[0m\u001b[0mcar\u001b[0m\u001b[0;34m\u001b[0m\u001b[0m\n\u001b[0m",
      "\u001b[0;31mAttributeError\u001b[0m: 'Person' object has no attribute 'car'"
     ]
    }
   ],
   "source": [
    "pam.car"
   ]
  },
  {
   "cell_type": "code",
   "execution_count": 97,
   "metadata": {},
   "outputs": [
    {
     "name": "stdout",
     "output_type": "stream",
     "text": [
      "Chrysler\n",
      "Chrysler\n",
      "Datsun\n",
      "Toyota\n"
     ]
    }
   ],
   "source": [
    "for car in Car.all():\n",
    "    print(car.make)"
   ]
  },
  {
   "cell_type": "markdown",
   "metadata": {},
   "source": [
    "It doesn't look like it! This is partly because we don't have an instance method or variable called car, but it also kind of makes sense. Let's think about a cars registration -- it lists the owner of the car. There's only one person on the registration because there is one main driver for that car. Let's now think about a person. Let's say this person is quite affluent and also interested in cars. So, they have several cars. Does it make sense to have several cars on this person's license or other document? Not really. It could get messy and also duplicates the information about ownership. So, it is the job of the car to know its owner -- since it only has one owner."
   ]
  },
  {
   "cell_type": "markdown",
   "metadata": {},
   "source": [
    "Before moving forward, let's delete the `chrysler` instance so our queries won't break when reading this example instance."
   ]
  },
  {
   "cell_type": "code",
   "execution_count": 101,
   "metadata": {},
   "outputs": [],
   "source": [
    "del Car.all()[0]"
   ]
  },
  {
   "cell_type": "code",
<<<<<<< HEAD
   "execution_count": null,
   "metadata": {},
   "outputs": [],
   "source": [
    "for car in Car.all():\n",
    "    print(car.owner)"
=======
   "execution_count": 103,
   "metadata": {},
   "outputs": [
    {
     "name": "stdout",
     "output_type": "stream",
     "text": [
      "Datsun\n"
     ]
    }
   ],
   "source": [
    "for car in Car.all():\n",
    "    print(car.make)"
>>>>>>> a02cb03c9908d6859fd97304f77a93ac892b0979
   ]
  },
  {
   "cell_type": "markdown",
   "metadata": {},
   "source": [
    "## Querying a \"Belongs To\" Relationship\n",
    "We still want to know how many cars and what types of cars Pam has, so, we'll need to find a way to accomplish this. \n",
    "\n",
    "Let's think about the fact that the cars all know their owners. Where can we find a list of all the cars we have created? \n",
    "\n",
    "We should be able to use the car class to answer our questions about who owns which cars, how many they own, and even if there is an occupation that lends itself to driving a certain make or model car. "
   ]
  },
  {
   "cell_type": "code",
   "execution_count": 104,
   "metadata": {},
   "outputs": [],
   "source": [
    "# let's first fix our first couple car instances and set them equal to the person instances \n",
    "# that represent them:\n",
    "# make sure you have defined your setter instance methods for the car class!\n",
    "michael = Person(\"Michael Scott\", \"Regional Manager\")\n",
    "sebring = Car(\"Chrysler\", \"Sebring Convertible\", 2004, michael)\n",
    "dwight = Person(\"Dwight Schrute\", \"Paper Salesperson\")\n",
    "datsun.owner = dwight\n",
    "# let's create more people\n",
    "meredith = Person(\"Meredith Palmer\", \"Purchaser - Supplier Relations\")\n",
    "ford_minivan = Car(\"Ford\", \"Aerostar Minivan\", 1997, meredith)\n",
    "jim = Person(\"Jim Halpert\", \"Paper Salesperson\")\n",
    "corolla = Car(\"Toyota\", \"Corolla\", 2000, jim)\n",
    "stanley = Person(\"Stanley Hudson\", \"Paper Salesperson\")\n",
    "camry = Car (\"Toyota\", \"Camry\", 2008, stanley)\n"
   ]
  },
  {
   "cell_type": "code",
   "execution_count": 105,
   "metadata": {},
   "outputs": [
    {
     "name": "stdout",
     "output_type": "stream",
     "text": [
      "Datsun\n",
      "Chrysler\n",
      "Ford\n",
      "Toyota\n",
      "Toyota\n"
     ]
    }
   ],
   "source": [
    "for car in Car.all():\n",
    "    print(car.make)"
   ]
  },
  {
   "cell_type": "markdown",
   "metadata": {},
   "source": [
    "Alright, now let's try figuring out the employees drive toyotas, the average age of a Dunder Mifflin Employee's car, the person that owns the oldest car, and the most popular car manufacturer."
   ]
  },
  {
   "cell_type": "code",
   "execution_count": 36,
   "metadata": {},
   "outputs": [
    {
     "ename": "AttributeError",
     "evalue": "type object 'Person' has no attribute 'has_oldest_car'",
     "output_type": "error",
     "traceback": [
      "\u001b[0;31m\u001b[0m",
      "\u001b[0;31mAttributeError\u001b[0mTraceback (most recent call last)",
      "\u001b[0;32m<ipython-input-36-ca4564f7aba3>\u001b[0m in \u001b[0;36m<module>\u001b[0;34m()\u001b[0m\n\u001b[0;32m----> 1\u001b[0;31m \u001b[0mPerson\u001b[0m\u001b[0;34m.\u001b[0m\u001b[0mhas_oldest_car\u001b[0m\u001b[0;34m(\u001b[0m\u001b[0;34m)\u001b[0m \u001b[0;31m# class method that returns the person instance object that owns the oldest car\u001b[0m\u001b[0;34m\u001b[0m\u001b[0m\n\u001b[0m",
      "\u001b[0;31mAttributeError\u001b[0m: type object 'Person' has no attribute 'has_oldest_car'"
     ]
    }
   ],
   "source": [
    "Person.has_oldest_car() # class method that returns the person instance object that \n",
    "# owns the oldest car"
   ]
  },
  {
   "cell_type": "code",
   "execution_count": null,
   "metadata": {},
   "outputs": [],
   "source": [
    "print(Person.drives_a(\"Toyota\"))\n",
    "# class method that returns a list of person instance objects that own a Toyota\n",
    "# example: [jim, pam, stanley]\n",
    "print(Person.drives_a(\"Ford\"))\n",
    "# class method that returns a list of person instance objects that own a Ford\n",
    "# example: [meredith]"
   ]
  },
  {
   "cell_type": "code",
   "execution_count": null,
   "metadata": {},
   "outputs": [],
   "source": [
    "jim.drives_same_make_as_me()\n",
    "# instance method that returns a list of other dunder mifflin employees \n",
    "# that drive the same make car as the instance object it was called on\n",
    "# example: [pam, stanley]"
   ]
  },
  {
   "cell_type": "code",
   "execution_count": null,
   "metadata": {},
   "outputs": [],
   "source": [
    "for person in Person.all_persons():\n",
    "    print(person.name)"
   ]
  },
  {
   "cell_type": "code",
   "execution_count": null,
   "metadata": {},
   "outputs": [],
   "source": [
    "Car.cars_driven_by(\"Paper Salesperson\")\n",
    "# class method that returns a list of car instance objects that are driven \n",
    "# by people whose occupation is \"Paper Salesperson\"\n",
    "# example: [dwight, jim, stanley]"
   ]
  },
  {
   "cell_type": "markdown",
   "metadata": {},
   "source": [
    "## Summary\n"
   ]
  },
  {
   "cell_type": "markdown",
   "metadata": {},
   "source": [
    "Great work! In this lab we successfully created a belongs to relationship between different Python classes. We were able to create a domain that more closely resembles a real world structure by translating the real world relationship between cars and people into code. We were then able to leverage this relationship in order to query information about our classes and their instances. Object relationships, although more straight forward than relationships between living people, can get quite complex and it is important to think critically about how to set them up properly. In a belongs to relationship, we learned it is the responsibilty of the *belongs to* class (the Car class) to know what it belongs to. "
   ]
  }
 ],
 "metadata": {
  "kernelspec": {
   "display_name": "Python 3",
   "language": "python",
   "name": "python3"
  },
  "language_info": {
   "codemirror_mode": {
    "name": "ipython",
    "version": 3
   },
   "file_extension": ".py",
   "mimetype": "text/x-python",
   "name": "python",
   "nbconvert_exporter": "python",
   "pygments_lexer": "ipython3",
<<<<<<< HEAD
   "version": "3.7.1"
=======
   "version": "3.6.6"
>>>>>>> a02cb03c9908d6859fd97304f77a93ac892b0979
  }
 },
 "nbformat": 4,
 "nbformat_minor": 2
}
